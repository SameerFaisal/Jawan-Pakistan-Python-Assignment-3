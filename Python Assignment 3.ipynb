{
 "cells": [
  {
   "cell_type": "code",
   "execution_count": 5,
   "metadata": {},
   "outputs": [
    {
     "name": "stdout",
     "output_type": "stream",
     "text": [
      "\t\tQuestion 1\n",
      "\n",
      "Twinkle, twinkle, little star, \n",
      "\tHow I wonder what you are! \n",
      "\t\tUp above the world so high, \n",
      "\t\tLike a diamond in the sky. \n",
      "Twinkle, twinkle, little star, \n",
      "\tHow I wonder what you are!\n"
     ]
    }
   ],
   "source": [
    "print(\"\\t\\tQuestion 1\\n\")\n",
    "print(\"Twinkle, twinkle, little star, \\n\\tHow I wonder what you are! \\n\\t\\tUp above the world so high, \\n\\t\\tLike a diamond in the sky. \\nTwinkle, twinkle, little star, \\n\\tHow I wonder what you are!\")"
   ]
  },
  {
   "cell_type": "code",
   "execution_count": 6,
   "metadata": {},
   "outputs": [
    {
     "name": "stdout",
     "output_type": "stream",
     "text": [
      "\t\tQuestion 2\n",
      "\n",
      "Python version\n",
      "3.8.5 (default, Sep  3 2020, 21:29:08) [MSC v.1916 64 bit (AMD64)]\n",
      "Version info.\n",
      "sys.version_info(major=3, minor=8, micro=5, releaselevel='final', serial=0)\n"
     ]
    }
   ],
   "source": [
    "print(\"\\t\\tQuestion 2\\n\")\n",
    "import sys\n",
    "print(\"Python version\")\n",
    "print (sys.version)\n",
    "print(\"Version info.\")\n",
    "print (sys.version_info)\n"
   ]
  },
  {
   "cell_type": "code",
   "execution_count": 7,
   "metadata": {},
   "outputs": [
    {
     "name": "stdout",
     "output_type": "stream",
     "text": [
      "\t\tQuestion 3\n",
      "\n",
      "Current date and time : \n",
      "2021-10-24 20:25:02\n"
     ]
    }
   ],
   "source": [
    "print(\"\\t\\tQuestion 3\\n\")\n",
    "import datetime\n",
    "now = datetime.datetime.now()\n",
    "print (\"Current date and time : \")\n",
    "print (now.strftime(\"%Y-%m-%d %H:%M:%S\"))\n"
   ]
  },
  {
   "cell_type": "code",
   "execution_count": 8,
   "metadata": {},
   "outputs": [
    {
     "name": "stdout",
     "output_type": "stream",
     "text": [
      "\t\tQuestion 4\n",
      "\n",
      "Please Enter radius of circle: 2.5\n",
      "Area of circle is:  19.6375\n"
     ]
    }
   ],
   "source": [
    "print(\"\\t\\tQuestion 4\\n\")\n",
    "pi=3.142\n",
    "radius=float(input(\"Please Enter radius of circle: \"))\n",
    "area=pi*(radius**2)\n",
    "print(\"Area of circle is: \",area)\n"
   ]
  },
  {
   "cell_type": "code",
   "execution_count": 10,
   "metadata": {},
   "outputs": [
    {
     "name": "stdout",
     "output_type": "stream",
     "text": [
      "\t\tQuestion 5\n",
      "\n",
      "Input your First Name : Sameer\n",
      "Input your Last Name : Faisal\n",
      "Faisal Sameer\n"
     ]
    }
   ],
   "source": [
    "print(\"\\t\\tQuestion 5\\n\")\n",
    "fname = input(\"Input your First Name : \")\n",
    "lname = input(\"Input your Last Name : \")\n",
    "print (lname + \" \" + fname)"
   ]
  },
  {
   "cell_type": "code",
   "execution_count": 11,
   "metadata": {},
   "outputs": [
    {
     "name": "stdout",
     "output_type": "stream",
     "text": [
      "\t\tQuestion 6\n",
      "\n",
      "Enter first number: 3.52\n",
      "Enter second number: 2\n",
      "Addition:  5.52\n"
     ]
    }
   ],
   "source": [
    "print(\"\\t\\tQuestion 6\\n\")\n",
    "num1=float(input(\"Enter first number: \"))\n",
    "num2=float(input(\"Enter second number: \"))\n",
    "print(\"Addition: \",num1+num2)"
   ]
  },
  {
   "cell_type": "code",
   "execution_count": 15,
   "metadata": {},
   "outputs": [
    {
     "name": "stdout",
     "output_type": "stream",
     "text": [
      "\t\tQuestion 7\n",
      "\n",
      "Enter marks of english out of 100: 98\n",
      "Enter marks of islamiat out of 100: 97\n",
      "Enter marks of maths out of 100: 96\n",
      "Enter marks of urdu out of 100: 99\n",
      "Enter marks of science out of 100: 100\n",
      "Your percentage is:  98.0 %\n",
      "Grade A+\n"
     ]
    }
   ],
   "source": [
    "print(\"\\t\\tQuestion 7\\n\")\n",
    "total_marks=500\n",
    "eng=float(input(\"Enter marks of english out of 100: \"))\n",
    "isl=float(input(\"Enter marks of islamiat out of 100: \"))\n",
    "maths=float(input(\"Enter marks of maths out of 100: \"))\n",
    "urdu=float(input(\"Enter marks of urdu out of 100: \"))\n",
    "science=float(input(\"Enter marks of science out of 100: \"))\n",
    "percentage=((eng+isl+maths+urdu+science)/total_marks)*100\n",
    "print(\"Your percentage is: \",percentage,\"%\")\n",
    "if percentage <=100 and percentage >80:\n",
    "    print(\"Grade A+\")\n",
    "elif percentage <=80 and percentage >70:\n",
    "    print(\"Grade A\")\n",
    "elif percentage <=70 and percentage >60:\n",
    "    print(\"Grade B+\")\n",
    "elif percentage <=60 and percentage >50:\n",
    "    print(\"Grade B\")\n",
    "elif percentage <=50 and percentage > 40:\n",
    "    print(\"Grade C\")\n",
    "elif percentage==40:\n",
    "    print(\"Grade D\")\n",
    "else:\n",
    "    print(\"Grade F\\nFailed!\")"
   ]
  },
  {
   "cell_type": "code",
   "execution_count": 22,
   "metadata": {},
   "outputs": [
    {
     "name": "stdout",
     "output_type": "stream",
     "text": [
      "\t\tQuestion 8\n",
      "\n",
      "Enter a number: 8\n",
      "you entered an even number\n"
     ]
    }
   ],
   "source": [
    "print(\"\\t\\tQuestion 8\\n\")\n",
    "num=int(input(\"Enter a number: \"))\n",
    "if num%2==0:\n",
    "    print(\"you entered an even number\")\n",
    "elif num%2!=0:\n",
    "    print(\"you entered an odd number\")\n",
    "else:\n",
    "    print(\"invalid input\")\n"
   ]
  },
  {
   "cell_type": "code",
   "execution_count": 23,
   "metadata": {},
   "outputs": [
    {
     "name": "stdout",
     "output_type": "stream",
     "text": [
      "\t\tQuestion 8\n",
      "\n",
      "The list is:  [1, 2, 3, 4, 5, 6, 7, 8]\n",
      "The length of the list is:  8\n"
     ]
    }
   ],
   "source": [
    "print(\"\\t\\tQuestion 9\\n\")\n",
    "numbers=[1,2,3,4,5,6,7,8]\n",
    "length=len(numbers)\n",
    "print(\"The list is: \",numbers)\n",
    "print(\"The length of the list is: \",length)"
   ]
  },
  {
   "cell_type": "code",
   "execution_count": 25,
   "metadata": {},
   "outputs": [
    {
     "name": "stdout",
     "output_type": "stream",
     "text": [
      "\t\tQuestion 10\n",
      "\n",
      "Sum of elements in the list:  36\n"
     ]
    }
   ],
   "source": [
    "print(\"\\t\\tQuestion 10\\n\")\n",
    "total = 0\n",
    "list1 = [1,2,3,4,5,6,7,8]\n",
    "for ele in range(0, len(list1)):\n",
    "    total = total + list1[ele]\n",
    "print(\"Sum of elements in the list: \", total)\n"
   ]
  },
  {
   "cell_type": "code",
   "execution_count": 29,
   "metadata": {},
   "outputs": [
    {
     "name": "stdout",
     "output_type": "stream",
     "text": [
      "\t\tQuestion 11\n",
      "\n",
      "The largest number in list is:  2\n"
     ]
    }
   ],
   "source": [
    "print(\"\\t\\tQuestion 11\\n\")\n",
    "def max_in_list( list ):\n",
    "    max = list[ 0 ]\n",
    "    for a in list:\n",
    "        if a > max:\n",
    "            max = a\n",
    "    return max\n",
    "nums=[1, 2, -8, 0]\n",
    "largest=max_in_list(nums)\n",
    "print(\"The largest number in list is: \",largest)\n"
   ]
  },
  {
   "cell_type": "code",
   "execution_count": 30,
   "metadata": {},
   "outputs": [
    {
     "name": "stdout",
     "output_type": "stream",
     "text": [
      "\t\tQuestion 11\n",
      "\n",
      "Numbers less than 5 are:\n",
      "1\n",
      "1\n",
      "2\n",
      "3\n"
     ]
    }
   ],
   "source": [
    "print(\"\\t\\tQuestion 11\\n\")\n",
    "num=[1, 1, 2, 3, 5, 8, 13, 21, 34, 55, 89]\n",
    "print(\"Numbers less than 5 are:\")\n",
    "for i in num:\n",
    "    if i<5:\n",
    "        print(i)"
   ]
  },
  {
   "cell_type": "code",
   "execution_count": null,
   "metadata": {},
   "outputs": [],
   "source": []
  }
 ],
 "metadata": {
  "kernelspec": {
   "display_name": "Python 3",
   "language": "python",
   "name": "python3"
  },
  "language_info": {
   "codemirror_mode": {
    "name": "ipython",
    "version": 3
   },
   "file_extension": ".py",
   "mimetype": "text/x-python",
   "name": "python",
   "nbconvert_exporter": "python",
   "pygments_lexer": "ipython3",
   "version": "3.8.5"
  }
 },
 "nbformat": 4,
 "nbformat_minor": 4
}
